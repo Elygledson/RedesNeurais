{
  "nbformat": 4,
  "nbformat_minor": 0,
  "metadata": {
    "colab": {
      "name": "Numpy tutorial",
      "provenance": [],
      "collapsed_sections": [],
      "authorship_tag": "ABX9TyPUZKK820s0j5USXoh331dH",
      "include_colab_link": true
    },
    "kernelspec": {
      "name": "python3",
      "display_name": "Python 3"
    },
    "language_info": {
      "name": "python"
    }
  },
  "cells": [
    {
      "cell_type": "markdown",
      "metadata": {
        "id": "view-in-github",
        "colab_type": "text"
      },
      "source": [
        "<a href=\"https://colab.research.google.com/github/Elygledson/RedesNeurais/blob/main/Numpy/Numpy_tutorial.ipynb\" target=\"_parent\"><img src=\"https://colab.research.google.com/assets/colab-badge.svg\" alt=\"Open In Colab\"/></a>"
      ]
    },
    {
      "cell_type": "code",
      "metadata": {
        "colab": {
          "base_uri": "https://localhost:8080/"
        },
        "id": "_InVDvCtKZbL",
        "outputId": "9cb4ac89-adad-4fd3-8d6a-369fb58bedbd"
      },
      "source": [
        "import numpy as np\n",
        "from numpy import linalg as LA\n",
        "\n",
        "# NumPy Array\n",
        "\n",
        "# Create an empty array\n",
        "emptyArray = np.empty(4, dtype=int)\n",
        "print('empty array\\n',emptyArray)\n",
        "  \n",
        "# Create a full array\n",
        "fullArray = np.full((4), [1,2,3,4], dtype=int)\n",
        "print('full array\\n',fullArray)"
      ],
      "execution_count": 561,
      "outputs": [
        {
          "output_type": "stream",
          "name": "stdout",
          "text": [
            "empty array\n",
            " [ 3  5  6 10]\n",
            "full array\n",
            " [1 2 3 4]\n"
          ]
        }
      ]
    },
    {
      "cell_type": "code",
      "metadata": {
        "colab": {
          "base_uri": "https://localhost:8080/"
        },
        "id": "Rn4PnEmJNHS5",
        "outputId": "93dcf0e1-231d-44e1-e2b8-b72ad72a48f6"
      },
      "source": [
        "#Create a Numpy array filled with all zeros\n",
        "\n",
        "zero = np.zeros(5, dtype=int)\n",
        "print(\"array filled with all zeros\\n\", zero) "
      ],
      "execution_count": 562,
      "outputs": [
        {
          "output_type": "stream",
          "name": "stdout",
          "text": [
            "array filled with all zeros\n",
            " [0 0 0 0 0]\n"
          ]
        }
      ]
    },
    {
      "cell_type": "code",
      "metadata": {
        "colab": {
          "base_uri": "https://localhost:8080/"
        },
        "id": "TrjI4qLZNIoK",
        "outputId": "b78d72a9-bbb7-471e-c2da-db86c62fc030"
      },
      "source": [
        "#Create a Numpy array filled with all ones\n",
        "ones = np.ones(5, dtype=int)\n",
        "print(\"array filled with all one\\n\", ones) "
      ],
      "execution_count": 563,
      "outputs": [
        {
          "output_type": "stream",
          "name": "stdout",
          "text": [
            "array filled with all one\n",
            " [1 1 1 1 1]\n"
          ]
        }
      ]
    },
    {
      "cell_type": "code",
      "metadata": {
        "colab": {
          "base_uri": "https://localhost:8080/"
        },
        "id": "746_gmCCNSGf",
        "outputId": "5f2142c6-35d6-4b7a-b8dc-5b9997621801"
      },
      "source": [
        "#Check whether a Numpy array contains a specified row\n",
        "\n",
        "arr = np.array([[1, 2, 3, 4, 5],\n",
        "                   [6, 7, 8, 9, 10],\n",
        "                   [11, 12, 13, 14, 15]\n",
        "                   ])\n",
        "\n",
        "print('does the array contain [1, 2, 3, 4, 5]?\\n',[1, 2, 3, 4, 5] in arr.tolist())"
      ],
      "execution_count": 564,
      "outputs": [
        {
          "output_type": "stream",
          "name": "stdout",
          "text": [
            "does the array contain [1, 2, 3, 4, 5]?\n",
            " True\n"
          ]
        }
      ]
    },
    {
      "cell_type": "code",
      "metadata": {
        "colab": {
          "base_uri": "https://localhost:8080/"
        },
        "id": "KI6DrQQWNWbw",
        "outputId": "48984c93-a0dd-4e3a-b978-a4dfd5f9c499"
      },
      "source": [
        "# How to Remove rows in Numpy array that contains non-numeric values?\n",
        "\n",
        "array = np.array([[10, 11, 2],\n",
        "                  [21, 0, 2],\n",
        "                  [21, 0, np.nan]])\n",
        "array = array[~np.isnan(array).any(axis=1)]\n",
        "print('Delete all non-numeric elements\\n',array)"
      ],
      "execution_count": 565,
      "outputs": [
        {
          "output_type": "stream",
          "name": "stdout",
          "text": [
            "Delete all non-numeric elements\n",
            " [[10. 11.  2.]\n",
            " [21.  0.  2.]]\n"
          ]
        }
      ]
    },
    {
      "cell_type": "code",
      "metadata": {
        "colab": {
          "base_uri": "https://localhost:8080/"
        },
        "id": "OVsZEGujNdEv",
        "outputId": "a65ae5b9-2dc5-46a5-a723-6eb82363c040"
      },
      "source": [
        "#Remove single-dimensional entries from the shape of an array\n",
        "\n",
        "print('Remove single-dimensional entries from the shape of an array')\n",
        "a = np.array([[[2, 2, 2], [2, 2, 2]]])\n",
        "   \n",
        "print (\"array a :\", a) \n",
        "print(\"Shape of input array a : \", a.shape)  \n",
        "  \n",
        "n_array = np.squeeze(a) \n",
        "  \n",
        "print (\"output squeezed array : \", n_array)\n",
        "print(\"Shape of output array : \", n_array.shape)"
      ],
      "execution_count": 566,
      "outputs": [
        {
          "output_type": "stream",
          "name": "stdout",
          "text": [
            "Remove single-dimensional entries from the shape of an array\n",
            "array a : [[[2 2 2]\n",
            "  [2 2 2]]]\n",
            "Shape of input array a :  (1, 2, 3)\n",
            "output squeezed array :  [[2 2 2]\n",
            " [2 2 2]]\n",
            "Shape of output array :  (2, 3)\n"
          ]
        }
      ]
    },
    {
      "cell_type": "code",
      "metadata": {
        "colab": {
          "base_uri": "https://localhost:8080/"
        },
        "id": "t3H0I6BsNi_A",
        "outputId": "7cb63a1d-41f3-4418-a26e-f2fd5cacddbb"
      },
      "source": [
        "#Find the number of occurrences of a sequence in a NumPy array\n",
        "\n",
        "array = np.array([[1, 2, 3, 4], \n",
        "                   [1, 4, 4, 5],\n",
        "                   [4, 5, 7, 5]])\n",
        "\n",
        "print('number of occurrences of a sequence (\"4, 5\") in a NumPy array',repr(array).count(\"4, 5\"))"
      ],
      "execution_count": 567,
      "outputs": [
        {
          "output_type": "stream",
          "name": "stdout",
          "text": [
            "number of occurrences of a sequence (\"4, 5\") in a NumPy array 2\n"
          ]
        }
      ]
    },
    {
      "cell_type": "code",
      "metadata": {
        "colab": {
          "base_uri": "https://localhost:8080/"
        },
        "id": "kP0a3eZfNqVg",
        "outputId": "2d0c0c1e-1ec6-4684-a84f-70806d6d6f72"
      },
      "source": [
        "#Find the most frequent value in a NumPy array\n",
        "\n",
        "array = np.array([1,4,3,4,3,3,3,4,1])\n",
        "print(\"array\")\n",
        "print(array)\n",
        "print(\"Most frequent value\\n\",np.bincount(array).argmax())"
      ],
      "execution_count": 568,
      "outputs": [
        {
          "output_type": "stream",
          "name": "stdout",
          "text": [
            "array\n",
            "[1 4 3 4 3 3 3 4 1]\n",
            "Most frequent value\n",
            " 3\n"
          ]
        }
      ]
    },
    {
      "cell_type": "code",
      "metadata": {
        "colab": {
          "base_uri": "https://localhost:8080/"
        },
        "id": "BaBZpH_yNwtv",
        "outputId": "6f5713b2-973f-4cbe-8810-a90816d74cdd"
      },
      "source": [
        "#Combining a one and a two-dimensional NumPy Array\n",
        "\n",
        "x = np.arange(3)\n",
        "print(\"One dimensional array\")\n",
        "print(x)\n",
        "y = np.arange(6).reshape(2,3)\n",
        "print(\"Two dimensional array\")\n",
        "print(y)\n",
        "print('Combining a one and a two-dimensional NumPy Array')\n",
        "for a, b in np.nditer([x,y]):\n",
        "    print(\"%d:%d\" % (a,b),)"
      ],
      "execution_count": 569,
      "outputs": [
        {
          "output_type": "stream",
          "name": "stdout",
          "text": [
            "One dimensional array\n",
            "[0 1 2]\n",
            "Two dimensional array\n",
            "[[0 1 2]\n",
            " [3 4 5]]\n",
            "Combining a one and a two-dimensional NumPy Array\n",
            "0:0\n",
            "1:1\n",
            "2:2\n",
            "0:3\n",
            "1:4\n",
            "2:5\n"
          ]
        }
      ]
    },
    {
      "cell_type": "code",
      "metadata": {
        "colab": {
          "base_uri": "https://localhost:8080/"
        },
        "id": "Il0tKvURNzdp",
        "outputId": "06628f76-62fc-4bfa-e998-28027ee7fb15"
      },
      "source": [
        "#How to build an array of all combinations of two NumPy arrays?\n",
        "\n",
        "a = np.array([1, 2])\n",
        "b = np.array([4, 6])\n",
        "print('How to build an array of all combinations of two NumPy arrays')\n",
        "print(\"Array - a\")\n",
        "print(a)\n",
        "  \n",
        "print(\"Array - b\")\n",
        "print(b)\n",
        "  \n",
        "\n",
        "n_array = np.array(np.meshgrid(a, b)).T.reshape(-1, 2)\n",
        "  \n",
        "print(\"Combine array:\")\n",
        "print(n_array)\n"
      ],
      "execution_count": 570,
      "outputs": [
        {
          "output_type": "stream",
          "name": "stdout",
          "text": [
            "How to build an array of all combinations of two NumPy arrays\n",
            "Array - a\n",
            "[1 2]\n",
            "Array - b\n",
            "[4 6]\n",
            "Combine array:\n",
            "[[1 4]\n",
            " [1 6]\n",
            " [2 4]\n",
            " [2 6]]\n"
          ]
        }
      ]
    },
    {
      "cell_type": "code",
      "metadata": {
        "colab": {
          "base_uri": "https://localhost:8080/"
        },
        "id": "8A14zAz6N2j1",
        "outputId": "dd734b55-5277-485c-b7aa-ba7416c42ad0"
      },
      "source": [
        "#How to add a border around a NumPy array?\n",
        "\n",
        "array = np.ones((2, 2))\n",
        "  \n",
        "print('array before\\n',array)\n",
        "  \n",
        "# constructing border of 0 around 2D identity matrix\n",
        "# using np.pad()\n",
        "array = np.pad(array, pad_width=1, mode='constant',\n",
        "               constant_values=0)\n",
        "  \n",
        "print('0 on the border and 1 inside the array\\n',array)"
      ],
      "execution_count": 571,
      "outputs": [
        {
          "output_type": "stream",
          "name": "stdout",
          "text": [
            "array before\n",
            " [[1. 1.]\n",
            " [1. 1.]]\n",
            "0 on the border and 1 inside the array\n",
            " [[0. 0. 0. 0.]\n",
            " [0. 1. 1. 0.]\n",
            " [0. 1. 1. 0.]\n",
            " [0. 0. 0. 0.]]\n"
          ]
        }
      ]
    },
    {
      "cell_type": "code",
      "metadata": {
        "colab": {
          "base_uri": "https://localhost:8080/"
        },
        "id": "8LM0UGovN8bX",
        "outputId": "96f6f199-745e-4f73-d903-ae643f5f43dc"
      },
      "source": [
        "#How to compare two NumPy arrays?\n",
        "\n",
        "array_a = np.array([1,3])\n",
        "array_b = np.array([1,3])\n",
        "\n",
        "comparison = array_a == array_b\n",
        "ans = comparison.all()\n",
        "\n",
        "print('are the vectors the same?',ans)"
      ],
      "execution_count": 572,
      "outputs": [
        {
          "output_type": "stream",
          "name": "stdout",
          "text": [
            "are the vectors the same? True\n"
          ]
        }
      ]
    },
    {
      "cell_type": "code",
      "metadata": {
        "colab": {
          "base_uri": "https://localhost:8080/"
        },
        "id": "ReTTDXqVOHM5",
        "outputId": "2b3e94b7-bea3-4602-b608-feb62e4e577c"
      },
      "source": [
        "#How to check whether specified values are present in NumPy array?\n",
        "\n",
        "array = np.array([0,1,2,3])\n",
        "print('is the number 2 present in array?',2 in array)"
      ],
      "execution_count": 573,
      "outputs": [
        {
          "output_type": "stream",
          "name": "stdout",
          "text": [
            "is the number 2 present in array? True\n"
          ]
        }
      ]
    },
    {
      "cell_type": "code",
      "metadata": {
        "colab": {
          "base_uri": "https://localhost:8080/"
        },
        "id": "9mA05Rj_ONhu",
        "outputId": "bfe99d7f-a3db-477a-e267-f998831b30c6"
      },
      "source": [
        "#How to get all 2D diagonals of a 3D NumPy array?\n",
        "\n",
        "array = np.arange(3 * 4 * 4).reshape(3, 4, 4) \n",
        "  \n",
        "print(\"Original 3d array:\\n\",  \n",
        "      array) \n",
        "diag = np.diagonal(array,  \n",
        "                       axis1 = 1, \n",
        "                       axis2 = 2) \n",
        "  \n",
        "print(\"2d diagonal array:\\n\", diag)"
      ],
      "execution_count": 574,
      "outputs": [
        {
          "output_type": "stream",
          "name": "stdout",
          "text": [
            "Original 3d array:\n",
            " [[[ 0  1  2  3]\n",
            "  [ 4  5  6  7]\n",
            "  [ 8  9 10 11]\n",
            "  [12 13 14 15]]\n",
            "\n",
            " [[16 17 18 19]\n",
            "  [20 21 22 23]\n",
            "  [24 25 26 27]\n",
            "  [28 29 30 31]]\n",
            "\n",
            " [[32 33 34 35]\n",
            "  [36 37 38 39]\n",
            "  [40 41 42 43]\n",
            "  [44 45 46 47]]]\n",
            "2d diagonal array:\n",
            " [[ 0  5 10 15]\n",
            " [16 21 26 31]\n",
            " [32 37 42 47]]\n"
          ]
        }
      ]
    },
    {
      "cell_type": "code",
      "metadata": {
        "colab": {
          "base_uri": "https://localhost:8080/"
        },
        "id": "1mxLufZsORXv",
        "outputId": "4eec48c3-8c97-49bc-8fe0-d5e51d0dcbb1"
      },
      "source": [
        "#Flatten a Matrix in Python using NumPy\n",
        "\n",
        "y = np.array([[2,3], [4,5]])\n",
        "print('Matrix before\\n',y)\n",
        "print('Flatten a Matrix in Python using NumPy\\n',y.flatten());"
      ],
      "execution_count": 575,
      "outputs": [
        {
          "output_type": "stream",
          "name": "stdout",
          "text": [
            "Matrix before\n",
            " [[2 3]\n",
            " [4 5]]\n",
            "Flatten a Matrix in Python using NumPy\n",
            " [2 3 4 5]\n"
          ]
        }
      ]
    },
    {
      "cell_type": "code",
      "metadata": {
        "colab": {
          "base_uri": "https://localhost:8080/"
        },
        "id": "bQ4KCmS9OSqA",
        "outputId": "389634e4-e015-4e23-c109-838da738cff2"
      },
      "source": [
        "#Flatten a 2d numpy array into 1d array\n",
        "\n",
        "y = np.array([[2,3,6], [4,5,6]])\n",
        "print('Matrix before\\n',y)\n",
        "print('Flatten a 2d numpy array into 1d array\\n',y.flatten());\n"
      ],
      "execution_count": 576,
      "outputs": [
        {
          "output_type": "stream",
          "name": "stdout",
          "text": [
            "Matrix before\n",
            " [[2 3 6]\n",
            " [4 5 6]]\n",
            "Flatten a 2d numpy array into 1d array\n",
            " [2 3 6 4 5 6]\n"
          ]
        }
      ]
    },
    {
      "cell_type": "code",
      "metadata": {
        "colab": {
          "base_uri": "https://localhost:8080/"
        },
        "id": "_FJjPSs9OXIP",
        "outputId": "59d38b66-4196-45b0-85bf-243cb5d27368"
      },
      "source": [
        "#Move axes of an array to new positions\n",
        "\n",
        "array = np.zeros((2, 3, 4))\n",
        "print('Move axes of an array to new positions\\n',np.moveaxis(array, 0, -1).shape)\n",
        "print(np.moveaxis(array, -1, 0).shape)"
      ],
      "execution_count": 577,
      "outputs": [
        {
          "output_type": "stream",
          "name": "stdout",
          "text": [
            "Move axes of an array to new positions\n",
            " (3, 4, 2)\n",
            "(4, 2, 3)\n"
          ]
        }
      ]
    },
    {
      "cell_type": "code",
      "metadata": {
        "colab": {
          "base_uri": "https://localhost:8080/"
        },
        "id": "D_kj4_P6OZP5",
        "outputId": "901b0fd0-4ac9-4632-81bb-86366a0f7b74"
      },
      "source": [
        "#Interchange two axes of an array\n",
        "\n",
        "array = np.array([[1,2,3]])\n",
        "print('array before',array)\n",
        "y =  np.swapaxes(array,0,1)\n",
        "print('array after\\n',y)\n"
      ],
      "execution_count": 578,
      "outputs": [
        {
          "output_type": "stream",
          "name": "stdout",
          "text": [
            "array before [[1 2 3]]\n",
            "array after\n",
            " [[1]\n",
            " [2]\n",
            " [3]]\n"
          ]
        }
      ]
    },
    {
      "cell_type": "code",
      "metadata": {
        "colab": {
          "base_uri": "https://localhost:8080/"
        },
        "id": "fJs3eXAWOaZz",
        "outputId": "dc19efc7-3cfc-4367-ee30-1b2071fe0ab4"
      },
      "source": [
        "#NumPy – Fibonacci Series using Binet Formula\n",
        "\n",
        "print('Fibonacci Series using Binet Formula')\n",
        "\n",
        "a = np.arange(1, 11)\n",
        "lengthA = len(a)\n",
        "\n",
        "sqrtFive = np.sqrt(5)\n",
        "alpha = (1 + sqrtFive) / 2\n",
        "beta = (1 - sqrtFive) / 2\n",
        "\n",
        "Fn = np.rint(((alpha ** a) - (beta ** a)) / (sqrtFive))\n",
        "print(\"The first {} numbers of Fibonacci series are {} . \".format(lengthA, Fn))"
      ],
      "execution_count": 579,
      "outputs": [
        {
          "output_type": "stream",
          "name": "stdout",
          "text": [
            "Fibonacci Series using Binet Formula\n",
            "The first 10 numbers of Fibonacci series are [ 1.  1.  2.  3.  5.  8. 13. 21. 34. 55.] . \n"
          ]
        }
      ]
    },
    {
      "cell_type": "code",
      "metadata": {
        "colab": {
          "base_uri": "https://localhost:8080/"
        },
        "id": "Lnr4UeGMOhvM",
        "outputId": "8341c4dd-0fa4-45e3-d81b-8b739102d87d"
      },
      "source": [
        "#Counts the number of non-zero values in the array\n",
        "\n",
        "a = np.array([[0, 1, 0, 0],\n",
        "              [4, 1, 0, 0]])\n",
        "print('non-zero values\\n',np.count_nonzero(a))"
      ],
      "execution_count": 580,
      "outputs": [
        {
          "output_type": "stream",
          "name": "stdout",
          "text": [
            "non-zero values\n",
            " 3\n"
          ]
        }
      ]
    },
    {
      "cell_type": "code",
      "metadata": {
        "colab": {
          "base_uri": "https://localhost:8080/"
        },
        "id": "6mRVAWP6OlPv",
        "outputId": "22b9a04f-9d4f-4e85-c176-bee26444e81a"
      },
      "source": [
        "#Count the number of elements along a given axis\n",
        "\n",
        "array = np.array([[1, 2, 4, 1], [5, 1, 2, 4]])\n",
        "print('array\\n',array)\n",
        "print(np.size(array, 0))\n",
        "print(np.size(array, 1))"
      ],
      "execution_count": 581,
      "outputs": [
        {
          "output_type": "stream",
          "name": "stdout",
          "text": [
            "array\n",
            " [[1 2 4 1]\n",
            " [5 1 2 4]]\n",
            "2\n",
            "4\n"
          ]
        }
      ]
    },
    {
      "cell_type": "code",
      "metadata": {
        "colab": {
          "base_uri": "https://localhost:8080/"
        },
        "id": "bblb3aywOnpB",
        "outputId": "4386f98f-abe7-43c4-ad96-7c06f83cb167"
      },
      "source": [
        "#Trim the leading and/or trailing zeros from a 1-D array\n",
        "\n",
        "array = np.array((0, 0, 1, 1, 1, 4, 3, 2, 1, 3, 9, 0, 10, 0, 0))\n",
        "  \n",
        "ans = np.trim_zeros(array, 'b')\n",
        "print('returns an array without any trailing  zeros\\n',ans)"
      ],
      "execution_count": 582,
      "outputs": [
        {
          "output_type": "stream",
          "name": "stdout",
          "text": [
            "returns an array without any trailing  zeros\n",
            " [ 0  0  1  1  1  4  3  2  1  3  9  0 10]\n"
          ]
        }
      ]
    },
    {
      "cell_type": "code",
      "metadata": {
        "colab": {
          "base_uri": "https://localhost:8080/"
        },
        "id": "7X1_1XN-OqTg",
        "outputId": "d8bda5ad-f2c1-4efa-851d-955e75d74f79"
      },
      "source": [
        "#Change data type of given numpy array\n",
        "\n",
        "array_int = np.array([1,2,3,4,5])\n",
        "print('before changing\\n',array_int)\n",
        "  \n",
        "print('type',array_int.dtype)\n",
        "\n",
        "array_float = array.astype('float64')\n",
        "  \n",
        "print('after changing\\n',array_float)\n",
        "  \n",
        "print('type\\n',array_float.dtype)"
      ],
      "execution_count": 583,
      "outputs": [
        {
          "output_type": "stream",
          "name": "stdout",
          "text": [
            "before changing\n",
            " [1 2 3 4 5]\n",
            "type int64\n",
            "after changing\n",
            " [ 0.  0.  1.  1.  1.  4.  3.  2.  1.  3.  9.  0. 10.  0.  0.]\n",
            "type\n",
            " float64\n"
          ]
        }
      ]
    },
    {
      "cell_type": "code",
      "metadata": {
        "colab": {
          "base_uri": "https://localhost:8080/"
        },
        "id": "RP2gC-JrOu_A",
        "outputId": "3c98735e-030d-420d-e6de-b4c0b1e508c5"
      },
      "source": [
        "#Reverse a numpy array\n",
        "\n",
        "array = np.array([1,2,3,4,5])\n",
        "print('array before\\n',array)\n",
        "print('reverse array\\n',array[::-1])"
      ],
      "execution_count": 584,
      "outputs": [
        {
          "output_type": "stream",
          "name": "stdout",
          "text": [
            "array before\n",
            " [1 2 3 4 5]\n",
            "reverse array\n",
            " [5 4 3 2 1]\n"
          ]
        }
      ]
    },
    {
      "cell_type": "code",
      "metadata": {
        "colab": {
          "base_uri": "https://localhost:8080/"
        },
        "id": "vhXDGjqJMJ27",
        "outputId": "8e06c653-d3f9-47dc-df53-8a006caf00e6"
      },
      "source": [
        "#How to make a NumPy array read-only?\n",
        "\n",
        "array = np.zeros(5)\n",
        "array.flags.writeable = False\n",
        "print(\"Try to change the first element:\")\n",
        "##array[0] = 1\n"
      ],
      "execution_count": 585,
      "outputs": [
        {
          "output_type": "stream",
          "name": "stdout",
          "text": [
            "Try to change the first element:\n"
          ]
        }
      ]
    },
    {
      "cell_type": "markdown",
      "metadata": {
        "id": "lh5lqOsCRVgB"
      },
      "source": [
        "# Questions on NumPy Indexing"
      ]
    },
    {
      "cell_type": "code",
      "metadata": {
        "id": "b-yDcGHObieJ",
        "colab": {
          "base_uri": "https://localhost:8080/"
        },
        "outputId": "64ea0bbb-a6ac-42a1-e231-d03805ae3bf4"
      },
      "source": [
        "#Get the maximum value from given matrix\n",
        "\n",
        "matrix = np.matrix([[ 1,  1,  2,  3],\n",
        "        [ 4,  5,  6,  7],\n",
        "        [ 8,  9, 10, 11]])\n",
        "print('the maximum value',matrix.max())"
      ],
      "execution_count": 586,
      "outputs": [
        {
          "output_type": "stream",
          "name": "stdout",
          "text": [
            "the maximum value 11\n"
          ]
        }
      ]
    },
    {
      "cell_type": "code",
      "metadata": {
        "colab": {
          "base_uri": "https://localhost:8080/"
        },
        "id": "RHEEUpW2SEIw",
        "outputId": "3ccb69fa-e56a-41b8-911e-c5de84f30809"
      },
      "source": [
        "#Get the minimum value from given matrix\n",
        "#matrix used above\n",
        "print('the minimum value',matrix.min())"
      ],
      "execution_count": 587,
      "outputs": [
        {
          "output_type": "stream",
          "name": "stdout",
          "text": [
            "the minimum value 1\n"
          ]
        }
      ]
    },
    {
      "cell_type": "code",
      "metadata": {
        "colab": {
          "base_uri": "https://localhost:8080/"
        },
        "id": "BWeQr3FSSN6y",
        "outputId": "9f4281b6-8ef2-4512-8069-ee762f510fa5"
      },
      "source": [
        "#Find the number of rows and columns of a given matrix using NumPy\n",
        "#matrix used above 'matrix'\n",
        "print('the number of rows and columns',matrix.shape)"
      ],
      "execution_count": 588,
      "outputs": [
        {
          "output_type": "stream",
          "name": "stdout",
          "text": [
            "the number of rows and columns (3, 4)\n"
          ]
        }
      ]
    },
    {
      "cell_type": "code",
      "metadata": {
        "colab": {
          "base_uri": "https://localhost:8080/"
        },
        "id": "7UP_cBJPSjOP",
        "outputId": "4f7cdefa-bbcb-40e7-e0f9-f05fc0a6e23f"
      },
      "source": [
        "#Select the elements from a given matrix\n",
        "#matrix used above\n",
        "matrix[:1]"
      ],
      "execution_count": 589,
      "outputs": [
        {
          "output_type": "execute_result",
          "data": {
            "text/plain": [
              "matrix([[1, 1, 2, 3]])"
            ]
          },
          "metadata": {},
          "execution_count": 589
        }
      ]
    },
    {
      "cell_type": "code",
      "metadata": {
        "colab": {
          "base_uri": "https://localhost:8080/"
        },
        "id": "jhK4XrVDTQI5",
        "outputId": "c026d598-44ed-4e06-a18c-75edd5f19cb0"
      },
      "source": [
        "#Find the sum of values in a matrix\n",
        "\n",
        "x = np.matrix([[1, 2], [4, 1]])\n",
        "x.sum()\n"
      ],
      "execution_count": 590,
      "outputs": [
        {
          "output_type": "execute_result",
          "data": {
            "text/plain": [
              "8"
            ]
          },
          "metadata": {},
          "execution_count": 590
        }
      ]
    },
    {
      "cell_type": "code",
      "metadata": {
        "colab": {
          "base_uri": "https://localhost:8080/"
        },
        "id": "II7sqv1mT1CC",
        "outputId": "23f6e266-6f72-409d-b11e-78dfe7f263d3"
      },
      "source": [
        "#Calculate the sum of the diagonal elements of a NumPy array\n",
        "\n",
        "#matrix used above 'x'\n",
        "np.trace(x)"
      ],
      "execution_count": 591,
      "outputs": [
        {
          "output_type": "execute_result",
          "data": {
            "text/plain": [
              "2"
            ]
          },
          "metadata": {},
          "execution_count": 591
        }
      ]
    },
    {
      "cell_type": "code",
      "metadata": {
        "colab": {
          "base_uri": "https://localhost:8080/"
        },
        "id": "_jkJ0N4mVAXL",
        "outputId": "d5410697-86c8-48c8-d287-2ef62c8241f0"
      },
      "source": [
        "#Adding and Subtracting Matrices in Python\n",
        "\n",
        "a = np.matrix([[1, 2], [3, 4]])\n",
        "b = np.matrix([[4, 5], [6, 7]])\n",
        "print(\"Addition of two matrix\")\n",
        "print(np.add(a,b))\n",
        "print(\"Subtraction of two matrix\")\n",
        "print(np.subtract(a, b))\n"
      ],
      "execution_count": 592,
      "outputs": [
        {
          "output_type": "stream",
          "name": "stdout",
          "text": [
            "Addition of two matrix\n",
            "[[ 5  7]\n",
            " [ 9 11]]\n",
            "Subtraction of two matrix\n",
            "[[-3 -3]\n",
            " [-3 -3]]\n"
          ]
        }
      ]
    },
    {
      "cell_type": "code",
      "metadata": {
        "colab": {
          "base_uri": "https://localhost:8080/"
        },
        "id": "2ikIzDuuXNBr",
        "outputId": "b3720081-ad9b-49a6-c8a2-2ad6d0f0b013"
      },
      "source": [
        "#Ways to add row/columns in numpy array\n",
        "\n",
        "array = np.array([[1, 3, 4], [5, 2, 2], [1, 2, 20]])\n",
        " \n",
        "print(\"array\\n\", str(array));\n",
        "\n",
        "# Array to be added as column\n",
        "column_to_be_added = np.array([1, 2, 3])\n",
        " \n",
        "result = np.column_stack((array, column_to_be_added))\n",
        " \n",
        "print (\"column [1,2,3] added\\n\", str(result))\n",
        "\n",
        "# Array to be added as row\n",
        "row_to_be_added = np.array([1, 2, 3])\n",
        " \n",
        "# Adding row to numpy array\n",
        "result = np.vstack ((array, row_to_be_added))\n",
        " \n",
        "# printing result\n",
        "print (\"row [1,2,3] added\\n\", str(result))"
      ],
      "execution_count": 593,
      "outputs": [
        {
          "output_type": "stream",
          "name": "stdout",
          "text": [
            "array\n",
            " [[ 1  3  4]\n",
            " [ 5  2  2]\n",
            " [ 1  2 20]]\n",
            "column [1,2,3] added\n",
            " [[ 1  3  4  1]\n",
            " [ 5  2  2  2]\n",
            " [ 1  2 20  3]]\n",
            "row [1,2,3] added\n",
            " [[ 1  3  4]\n",
            " [ 5  2  2]\n",
            " [ 1  2 20]\n",
            " [ 1  2  3]]\n"
          ]
        }
      ]
    },
    {
      "cell_type": "code",
      "metadata": {
        "colab": {
          "base_uri": "https://localhost:8080/"
        },
        "id": "YH71NJEXXRNy",
        "outputId": "510fa7e7-b70a-4f72-d172-ed56554cb695"
      },
      "source": [
        "#Matrix Multiplication in NumPy\n",
        "#matrix used above 'a' e 'b'\n",
        "print('Multiplication\\n',np.matmul(a,b))\n"
      ],
      "execution_count": 594,
      "outputs": [
        {
          "output_type": "stream",
          "name": "stdout",
          "text": [
            "Multiplication\n",
            " [[16 19]\n",
            " [36 43]]\n"
          ]
        }
      ]
    },
    {
      "cell_type": "code",
      "metadata": {
        "colab": {
          "base_uri": "https://localhost:8080/"
        },
        "id": "LnaqgZWHXTh0",
        "outputId": "efa29fb4-dac3-48bc-d18d-474d2cd0ecd1"
      },
      "source": [
        "#Get the eigen values of a matrix\n",
        "\n",
        "m = np.matrix([[1, 0, 0], \n",
        "               [1, 1, 0], \n",
        "               [0, 0, 1]])\n",
        "eigenvalues, eigenvectors = np.linalg.eig(m)\n",
        "print(eigenvalues)\n"
      ],
      "execution_count": 595,
      "outputs": [
        {
          "output_type": "stream",
          "name": "stdout",
          "text": [
            "[1. 1. 1.]\n"
          ]
        }
      ]
    },
    {
      "cell_type": "code",
      "metadata": {
        "colab": {
          "base_uri": "https://localhost:8080/"
        },
        "id": "G6Qk-l05XVab",
        "outputId": "058479c8-b869-48d3-83d9-9c7c62974288"
      },
      "source": [
        "#How to Calculate the determinant of a matrix using NumPy?\n",
        "# matrix used above 'm'\n",
        "  \n",
        "print(\"Numpy Matrix is:\")\n",
        "print(m)\n",
        "  \n",
        "# calculating the determinant of matrix\n",
        "det = np.linalg.det(m)\n",
        "print('determinant',det)"
      ],
      "execution_count": 596,
      "outputs": [
        {
          "output_type": "stream",
          "name": "stdout",
          "text": [
            "Numpy Matrix is:\n",
            "[[1 0 0]\n",
            " [1 1 0]\n",
            " [0 0 1]]\n",
            "determinant 1.0\n"
          ]
        }
      ]
    },
    {
      "cell_type": "code",
      "metadata": {
        "colab": {
          "base_uri": "https://localhost:8080/"
        },
        "id": "1kErlgwHXWLJ",
        "outputId": "685b9fbd-c297-4e34-d530-baa5074903be"
      },
      "source": [
        "#How to inverse a matrix using NumPy\n",
        "# matrix used above 'm'\n",
        "print(np.linalg.inv(m))"
      ],
      "execution_count": 597,
      "outputs": [
        {
          "output_type": "stream",
          "name": "stdout",
          "text": [
            "[[ 1.  0.  0.]\n",
            " [-1.  1.  0.]\n",
            " [ 0.  0.  1.]]\n"
          ]
        }
      ]
    },
    {
      "cell_type": "code",
      "metadata": {
        "colab": {
          "base_uri": "https://localhost:8080/"
        },
        "id": "qLtH1RfaXeSD",
        "outputId": "7ab4ae49-37a2-4e3b-e73e-d5e18a115ed2"
      },
      "source": [
        "#How to count the frequency of unique values in NumPy array?\n",
        "\n",
        "a = np.array([1, 1, 2, 3, 4, 4, 1])\n",
        "(unique, counts) = np.unique(a, return_counts=True)\n",
        "freq = np.asarray((unique, counts)).T\n",
        "print(freq)"
      ],
      "execution_count": 598,
      "outputs": [
        {
          "output_type": "stream",
          "name": "stdout",
          "text": [
            "[[1 3]\n",
            " [2 1]\n",
            " [3 1]\n",
            " [4 2]]\n"
          ]
        }
      ]
    },
    {
      "cell_type": "code",
      "metadata": {
        "colab": {
          "base_uri": "https://localhost:8080/"
        },
        "id": "cD1Z1jcFXg91",
        "outputId": "36a93942-b2c2-4fb8-8c14-2e232b84eb1d"
      },
      "source": [
        "#Multiply matrices of complex numbers using NumPy in Python\n",
        "\n",
        "x = np.array([[2+3j, 4+5j], [4+5j, 6+7j]])\n",
        "print(\"First matrix:\")\n",
        "print(x)\n",
        "y = np.array([[8+7j, 5+6j], [9+10j, 1+2j]])\n",
        "print(\"Second matrix:\")\n",
        "print(y)\n",
        "#product of two matrices\n",
        "res = np.vdot(x, y)\n",
        "print(\"Product of matrices are\\n\",res)"
      ],
      "execution_count": 599,
      "outputs": [
        {
          "output_type": "stream",
          "name": "stdout",
          "text": [
            "First matrix:\n",
            "[[2.+3.j 4.+5.j]\n",
            " [4.+5.j 6.+7.j]]\n",
            "Second matrix:\n",
            "[[8. +7.j 5. +6.j]\n",
            " [9.+10.j 1. +2.j]]\n",
            "Product of matrices are\n",
            " (193-11j)\n"
          ]
        }
      ]
    },
    {
      "cell_type": "code",
      "metadata": {
        "colab": {
          "base_uri": "https://localhost:8080/"
        },
        "id": "rC_Plf1CXkGz",
        "outputId": "bcd1fd46-0654-4614-b391-771c2b64860b"
      },
      "source": [
        "#Compute the outer product of two given vectors using NumPy in Python\n",
        "\n",
        "a = np.array([1,2])\n",
        "b = np.array([3,5])\n",
        "print(\"arrays:\")\n",
        "print(a)\n",
        "print(b)\n",
        "print(\"Outer Product of the two array is:\")\n",
        "result = np.outer(a, b)\n",
        "print(result)"
      ],
      "execution_count": 600,
      "outputs": [
        {
          "output_type": "stream",
          "name": "stdout",
          "text": [
            "arrays:\n",
            "[1 2]\n",
            "[3 5]\n",
            "Outer Product of the two array is:\n",
            "[[ 3  5]\n",
            " [ 6 10]]\n"
          ]
        }
      ]
    },
    {
      "cell_type": "code",
      "metadata": {
        "colab": {
          "base_uri": "https://localhost:8080/"
        },
        "id": "7YM7LWmxXnpV",
        "outputId": "3b3e19d8-cb1c-41d9-83dd-cd27ce89c391"
      },
      "source": [
        "#Calculate inner, outer, and cross products of matrices and vectors using NumPy\n",
        "# matrix used above 'a' and 'b'\n",
        "print('outer  product\\n',np.outer(a,b))\n",
        "print('inner product',np.inner(a,b))\n",
        "print('cross product',np.cross(a,b))"
      ],
      "execution_count": 601,
      "outputs": [
        {
          "output_type": "stream",
          "name": "stdout",
          "text": [
            "outer  product\n",
            " [[ 3  5]\n",
            " [ 6 10]]\n",
            "inner product 13\n",
            "cross product -1\n"
          ]
        }
      ]
    },
    {
      "cell_type": "code",
      "metadata": {
        "colab": {
          "base_uri": "https://localhost:8080/"
        },
        "id": "T2k1JW4iXoxe",
        "outputId": "4e9cba9b-81a5-4105-8954-e907dc2f606c"
      },
      "source": [
        "#Compute the covariance matrix of two given NumPy arrays\n",
        "\n",
        "array1 = np.array([0, 1, 1])\n",
        "array2 = np.array([2, 2, 1])\n",
        "  \n",
        "print(array1)\n",
        "\n",
        "print(array2)\n",
        "\n",
        "# Covariance matrix\n",
        "print(\"Covariance matrix\\n\",np.cov(array1, array2))"
      ],
      "execution_count": 602,
      "outputs": [
        {
          "output_type": "stream",
          "name": "stdout",
          "text": [
            "[0 1 1]\n",
            "[2 2 1]\n",
            "Covariance matrix\n",
            " [[ 0.33333333 -0.16666667]\n",
            " [-0.16666667  0.33333333]]\n"
          ]
        }
      ]
    },
    {
      "cell_type": "code",
      "metadata": {
        "id": "aL1C2hnzX0ZM"
      },
      "source": [
        "#Convert covariance matrix to correlation matrix using Python"
      ],
      "execution_count": 603,
      "outputs": []
    },
    {
      "cell_type": "code",
      "metadata": {
        "colab": {
          "base_uri": "https://localhost:8080/"
        },
        "id": "NnnXsFPeX1CE",
        "outputId": "9145663d-1d5c-4a5c-d68e-1dcd88573d0a"
      },
      "source": [
        "#Compute the Kronecker product of two mulitdimension NumPy arrays\n",
        "\n",
        "a = np.array([1,2,3])\n",
        "b = np.array([0,1,0])\n",
        "print(\"1-dimensão arrays:\")\n",
        "print(a)\n",
        "print(b)\n",
        "result =  np.kron(a, b)\n",
        "print(\"Kronecker product of the said arrays:\")\n",
        "print(result)\n",
        "x = np.arange(9).reshape(3, 3)\n",
        "y = np.arange(3, 12).reshape(3, 3)\n",
        "print(\"Original Higher dimension:\")\n",
        "print(x)\n",
        "print(y)\n",
        "result = np.kron(x, y)\n",
        "print(\"Kronecker product  of the said arrays:\")\n",
        "print(result)"
      ],
      "execution_count": 604,
      "outputs": [
        {
          "output_type": "stream",
          "name": "stdout",
          "text": [
            "1-dimensão arrays:\n",
            "[1 2 3]\n",
            "[0 1 0]\n",
            "Kronecker product of the said arrays:\n",
            "[0 1 0 0 2 0 0 3 0]\n",
            "Original Higher dimension:\n",
            "[[0 1 2]\n",
            " [3 4 5]\n",
            " [6 7 8]]\n",
            "[[ 3  4  5]\n",
            " [ 6  7  8]\n",
            " [ 9 10 11]]\n",
            "Kronecker product  of the said arrays:\n",
            "[[ 0  0  0  3  4  5  6  8 10]\n",
            " [ 0  0  0  6  7  8 12 14 16]\n",
            " [ 0  0  0  9 10 11 18 20 22]\n",
            " [ 9 12 15 12 16 20 15 20 25]\n",
            " [18 21 24 24 28 32 30 35 40]\n",
            " [27 30 33 36 40 44 45 50 55]\n",
            " [18 24 30 21 28 35 24 32 40]\n",
            " [36 42 48 42 49 56 48 56 64]\n",
            " [54 60 66 63 70 77 72 80 88]]\n"
          ]
        }
      ]
    },
    {
      "cell_type": "code",
      "metadata": {
        "colab": {
          "base_uri": "https://localhost:8080/"
        },
        "id": "evJIyLX8X35Q",
        "outputId": "bb0e6dd8-2919-4480-f410-722848bb4cbc"
      },
      "source": [
        "#Convert the matrix into a list\n",
        "matrix= np.matrix([[1, 2, 3], \n",
        "                   [4, 5, 6], \n",
        "                   [7, 8, 9]])\n",
        "print('matrix\\n',matrix)\n",
        "print('Matrix converted into list',matrix.tolist())"
      ],
      "execution_count": 605,
      "outputs": [
        {
          "output_type": "stream",
          "name": "stdout",
          "text": [
            "matrix\n",
            " [[1 2 3]\n",
            " [4 5 6]\n",
            " [7 8 9]]\n",
            "Matrix converted into list [[1, 2, 3], [4, 5, 6], [7, 8, 9]]\n"
          ]
        }
      ]
    },
    {
      "cell_type": "markdown",
      "metadata": {
        "id": "YCWmLY0uKAUP"
      },
      "source": [
        "# Questions on NumPy Indexing"
      ]
    },
    {
      "cell_type": "code",
      "metadata": {
        "id": "7N-vI9gCxDOX",
        "colab": {
          "base_uri": "https://localhost:8080/"
        },
        "outputId": "1d379b2d-9359-4d0b-e7cc-a77121a4ef60"
      },
      "source": [
        "#Replace NumPy array elements that doesn’t satisfy the given condition\n",
        "\n",
        "array = np.array([20,4,5,40,50,60])\n",
        "array = np.where(array > 20, 0, -1)\n",
        "\n",
        "print('Replace NumPy array elements that doesn’t satisfy the given condition by -1\\n',array)\n"
      ],
      "execution_count": 606,
      "outputs": [
        {
          "output_type": "stream",
          "name": "stdout",
          "text": [
            "Replace NumPy array elements that doesn’t satisfy the given condition by -1\n",
            " [-1 -1 -1  0  0  0]\n"
          ]
        }
      ]
    },
    {
      "cell_type": "code",
      "metadata": {
        "colab": {
          "base_uri": "https://localhost:8080/"
        },
        "id": "qU65kSe-2itt",
        "outputId": "25499140-481d-4f29-c4fd-77bb1f8f6c8a"
      },
      "source": [
        "#Return the indices of elements where the given condition is satisfied\n",
        "\n",
        "array = np.array([6, 8, 8, 0, 2, 3])\n",
        "  \n",
        "print(array)\n",
        "  \n",
        "indexes  = np.where(array < 5)\n",
        "print('Indices of elements < 5\\n',indexes)"
      ],
      "execution_count": 607,
      "outputs": [
        {
          "output_type": "stream",
          "name": "stdout",
          "text": [
            "[6 8 8 0 2 3]\n",
            "Indices of elements < 5\n",
            " (array([3, 4, 5]),)\n"
          ]
        }
      ]
    },
    {
      "cell_type": "code",
      "metadata": {
        "colab": {
          "base_uri": "https://localhost:8080/"
        },
        "id": "ss5Gc-2C31Od",
        "outputId": "4cfa2cd6-94a0-4d27-81f9-77bb186d1262"
      },
      "source": [
        "#Replace NaN values with average of columns\n",
        "\n",
        "array = np.array([[12, 2.5, 1.6, np.nan],\n",
        "                      [16, 4.3, np.nan, 2.5],\n",
        "                      [11, 4.2, 3.4, np.nan]])\n",
        "  \n",
        "print (\"Array before\\n\", array)\n",
        "  \n",
        "res = np.where(np.isnan(array), np.ma.array(array,\n",
        "               mask = np.isnan(array)).mean(axis = 0), array)   \n",
        "  \n",
        "print (\"Replace NaN values with average of columns\\n\", res)"
      ],
      "execution_count": 608,
      "outputs": [
        {
          "output_type": "stream",
          "name": "stdout",
          "text": [
            "Array before\n",
            " [[12.   2.5  1.6  nan]\n",
            " [16.   4.3  nan  2.5]\n",
            " [11.   4.2  3.4  nan]]\n",
            "Replace NaN values with average of columns\n",
            " [[12.   2.5  1.6  2.5]\n",
            " [16.   4.3  2.5  2.5]\n",
            " [11.   4.2  3.4  2.5]]\n"
          ]
        }
      ]
    },
    {
      "cell_type": "code",
      "metadata": {
        "colab": {
          "base_uri": "https://localhost:8080/"
        },
        "id": "Fq47IJfb36L7",
        "outputId": "1a42eea3-3757-4a23-f373-d669185ab219"
      },
      "source": [
        "#Replace negative value with zero in numpy array\n",
        "\n",
        "arr = np.array([1, 2, -3, -4, -5])\n",
        "\n",
        "arr[arr < 0] = 0\n",
        "\n",
        "print('Replace negative value with zero in numpy array\\n',arr)\n",
        "\n"
      ],
      "execution_count": 609,
      "outputs": [
        {
          "output_type": "stream",
          "name": "stdout",
          "text": [
            "Replace negative value with zero in numpy array\n",
            " [1 2 0 0 0]\n"
          ]
        }
      ]
    },
    {
      "cell_type": "code",
      "metadata": {
        "colab": {
          "base_uri": "https://localhost:8080/"
        },
        "id": "gHekPL_X6z_a",
        "outputId": "3b030b76-f11e-42cb-dcd5-4941f0f9c81d"
      },
      "source": [
        "#How to get values of an NumPy array at certain index positions?\n",
        "\n",
        "arr = [2, 3, 2, 6, 7, 7]\n",
        "indexes = [0, 5]\n",
        "arr = np.take(arr, indexes)\n",
        "\n",
        "print('get values of an NumPy array at certain index positions\\n',arr)"
      ],
      "execution_count": 610,
      "outputs": [
        {
          "output_type": "stream",
          "name": "stdout",
          "text": [
            "get values of an NumPy array at certain index positions\n",
            " [2 7]\n"
          ]
        }
      ]
    },
    {
      "cell_type": "code",
      "metadata": {
        "colab": {
          "base_uri": "https://localhost:8080/"
        },
        "id": "8XO8gnqN7p1m",
        "outputId": "5a4c3642-e407-435f-e42f-d61806fe3bd6"
      },
      "source": [
        "#Find indices of elements equal to zero in a NumPy array\n",
        "\n",
        "arr = np.array([1,2,0,0,0])\n",
        "indexes = np.where( arr == 0)\n",
        "print(indexes)"
      ],
      "execution_count": 611,
      "outputs": [
        {
          "output_type": "stream",
          "name": "stdout",
          "text": [
            "(array([2, 3, 4]),)\n"
          ]
        }
      ]
    },
    {
      "cell_type": "code",
      "metadata": {
        "colab": {
          "base_uri": "https://localhost:8080/"
        },
        "id": "3xYnXP0y8Iif",
        "outputId": "74e83bb1-b2d2-4c37-f46a-2a23bee56c00"
      },
      "source": [
        "#How to Remove columns in Numpy array that contains non-numeric values?\n",
        "\n",
        "array = np.array([[1.5, 1.4, np.nan],\n",
        "                  [1, 22.5, np.nan]])\n",
        "  \n",
        "print(\"Array before\\n\")\n",
        "print(array)\n",
        "  \n",
        "print(\"Remove all columns containing non-numeric elements \\n\")\n",
        "print(array[:,~np.isnan(array).any(axis=0)])"
      ],
      "execution_count": 612,
      "outputs": [
        {
          "output_type": "stream",
          "name": "stdout",
          "text": [
            "Array before\n",
            "\n",
            "[[ 1.5  1.4  nan]\n",
            " [ 1.  22.5  nan]]\n",
            "Remove all columns containing non-numeric elements \n",
            "\n",
            "[[ 1.5  1.4]\n",
            " [ 1.  22.5]]\n"
          ]
        }
      ]
    },
    {
      "cell_type": "code",
      "metadata": {
        "colab": {
          "base_uri": "https://localhost:8080/"
        },
        "id": "MmmJbJ8S-2zC",
        "outputId": "90d84caa-0437-4688-d189-1bc262efdf20"
      },
      "source": [
        "#How to access different rows of a multidimensional NumPy array?\n",
        "array = np.array([[2, 2, 10], \n",
        "                [2, 1, 4], \n",
        "                [0, 1, 9]])\n",
        "print('Array\\n',array)\n",
        "ans = array[[0,1]]\n",
        "print(\"access different rows of a multidimensional NumPy array\\n\",ans)"
      ],
      "execution_count": 613,
      "outputs": [
        {
          "output_type": "stream",
          "name": "stdout",
          "text": [
            "Array\n",
            " [[ 2  2 10]\n",
            " [ 2  1  4]\n",
            " [ 0  1  9]]\n",
            "access different rows of a multidimensional NumPy array\n",
            " [[ 2  2 10]\n",
            " [ 2  1  4]]\n"
          ]
        }
      ]
    },
    {
      "cell_type": "code",
      "metadata": {
        "colab": {
          "base_uri": "https://localhost:8080/"
        },
        "id": "isiwbim2_1oZ",
        "outputId": "33fd3069-7c87-4e6f-bdf9-3a8e9628225b"
      },
      "source": [
        "#Get row numbers of NumPy array having element larger than X\n",
        "\n",
        "arr = np.array([[1, 2, 3, 0, 5],\n",
        "                  [10, -2, 10, 43, 2],\n",
        "                  [9, 1, 5, 2, 5],\n",
        "                  [1, 3, 2, 4, 1] \n",
        "                 ])\n",
        "X = 6\n",
        "print('Input\\n', arr)\n",
        "ans  = np.where(np.any(arr > X,axis = 1))\n",
        "print(\"row numbers of NumPy array having element larger than X\\n\", ans)"
      ],
      "execution_count": 614,
      "outputs": [
        {
          "output_type": "stream",
          "name": "stdout",
          "text": [
            "Input\n",
            " [[ 1  2  3  0  5]\n",
            " [10 -2 10 43  2]\n",
            " [ 9  1  5  2  5]\n",
            " [ 1  3  2  4  1]]\n",
            "row numbers of NumPy array having element larger than X\n",
            " (array([1, 2]),)\n"
          ]
        }
      ]
    },
    {
      "cell_type": "code",
      "metadata": {
        "colab": {
          "base_uri": "https://localhost:8080/"
        },
        "id": "0Mb1xT-xBaDw",
        "outputId": "90d0def5-28f6-442e-f2da-02c006394a09"
      },
      "source": [
        "\n",
        "# Get filled the diagonals of NumPy array\n",
        "array = np.array([[1, 2], [3, 4]])\n",
        "print('array before\\n',array)\n",
        "np.fill_diagonal(array, 1)\n",
        "print('array after\\n',array)"
      ],
      "execution_count": 615,
      "outputs": [
        {
          "output_type": "stream",
          "name": "stdout",
          "text": [
            "array before\n",
            " [[1 2]\n",
            " [3 4]]\n",
            "array after\n",
            " [[1 2]\n",
            " [3 1]]\n"
          ]
        }
      ]
    },
    {
      "cell_type": "code",
      "metadata": {
        "colab": {
          "base_uri": "https://localhost:8080/"
        },
        "id": "YQ-PWsvdBshX",
        "outputId": "67929de0-841a-413b-8919-272fc0d53414"
      },
      "source": [
        "#Check elements present in the NumPy array\n",
        "\n",
        "array = np.array([[0, 3],\n",
        "                [1, 2]])\n",
        "print('is element 2 present?')\n",
        "if 2 in arr:\n",
        "    print(True)\n",
        "else:\n",
        "    print(False)"
      ],
      "execution_count": 616,
      "outputs": [
        {
          "output_type": "stream",
          "name": "stdout",
          "text": [
            "is element 2 present?\n",
            "True\n"
          ]
        }
      ]
    },
    {
      "cell_type": "code",
      "metadata": {
        "id": "6O6SDjpFCqGw"
      },
      "source": [
        "#Combined array index by index\n",
        "\n"
      ],
      "execution_count": 617,
      "outputs": []
    },
    {
      "cell_type": "markdown",
      "metadata": {
        "id": "53i-kaucDPXn"
      },
      "source": [
        "# Questions on NumPy Linear Algebra"
      ]
    },
    {
      "cell_type": "code",
      "metadata": {
        "colab": {
          "base_uri": "https://localhost:8080/"
        },
        "id": "Waza4b9UDbOY",
        "outputId": "ffee5be3-6f9c-4513-a911-be1f5faafd75"
      },
      "source": [
        "#Find a matrix or vector norm using NumPy\n",
        "\n",
        "arr = np.array([[ 1, 2, 3],\n",
        "               [4, 5, 6]])\n",
        "norm = np.linalg.norm(arr)\n",
        "print(\"Matrix norm:\")\n",
        "print(norm)"
      ],
      "execution_count": 618,
      "outputs": [
        {
          "output_type": "stream",
          "name": "stdout",
          "text": [
            "Matrix norm:\n",
            "9.539392014169456\n"
          ]
        }
      ]
    },
    {
      "cell_type": "code",
      "metadata": {
        "colab": {
          "base_uri": "https://localhost:8080/"
        },
        "id": "eZGN2zgIGueh",
        "outputId": "09981401-ae15-40cf-a084-cf64afc9a018"
      },
      "source": [
        "#Calculate the QR decomposition of a given matrix using NumPy\n",
        "\n",
        "matrix = np.array([[1, 2, 3], [2, 1, 1]])\n",
        "print('matrix\\n',matrix)\n",
        "  \n",
        "q, r = np.linalg.qr(matrix)\n",
        "print('Q:\\n', q)\n",
        "print('R:\\n', r)"
      ],
      "execution_count": 619,
      "outputs": [
        {
          "output_type": "stream",
          "name": "stdout",
          "text": [
            "matrix\n",
            " [[1 2 3]\n",
            " [2 1 1]]\n",
            "Q:\n",
            " [[-0.4472136  -0.89442719]\n",
            " [-0.89442719  0.4472136 ]]\n",
            "R:\n",
            " [[-2.23606798 -1.78885438 -2.23606798]\n",
            " [ 0.         -1.34164079 -2.23606798]]\n"
          ]
        }
      ]
    },
    {
      "cell_type": "code",
      "metadata": {
        "colab": {
          "base_uri": "https://localhost:8080/"
        },
        "id": "sG6qWp5MHWSB",
        "outputId": "3eafb2ee-98a2-4bfc-e13a-cdca7c431b07"
      },
      "source": [
        "#Compute the condition number of a given matrix using NumPy\n",
        "\n",
        "a = np.array([[1, 0, -1], [1, 1, 0], [1, 0, 1]])\n",
        "print(\"matrix\\n\",a)\n",
        "print(\"The condition number of the said matrix\")\n",
        "print(LA.cond(a))"
      ],
      "execution_count": 620,
      "outputs": [
        {
          "output_type": "stream",
          "name": "stdout",
          "text": [
            "matrix\n",
            " [[ 1  0 -1]\n",
            " [ 1  1  0]\n",
            " [ 1  0  1]]\n",
            "The condition number of the said matrix\n",
            "2.4142135623730954\n"
          ]
        }
      ]
    },
    {
      "cell_type": "code",
      "metadata": {
        "colab": {
          "base_uri": "https://localhost:8080/"
        },
        "id": "fgoz-bjDIB3S",
        "outputId": "6c2ef4dd-c38e-4b6a-da7f-fd4caef49856"
      },
      "source": [
        "#Compute the eigenvalues and right eigenvectors of a given square array using NumPy?\n",
        "\n",
        "matrix = np.array([[1, 2],\n",
        "              [3, 4]])\n",
        "  \n",
        "print(\"square array\\n\",\n",
        "      matrix)\n",
        "  \n",
        "w, v = np.linalg.eig(matrix)\n",
        "  \n",
        "print(\"the Eigen values of the given square array\\n\",\n",
        "      w)\n",
        "  \n",
        "print(\"eigenvectors of the given square array:\\n\",\n",
        "      v)"
      ],
      "execution_count": 621,
      "outputs": [
        {
          "output_type": "stream",
          "name": "stdout",
          "text": [
            "square array\n",
            " [[1 2]\n",
            " [3 4]]\n",
            "the Eigen values of the given square array\n",
            " [-0.37228132  5.37228132]\n",
            "eigenvectors of the given square array:\n",
            " [[-0.82456484 -0.41597356]\n",
            " [ 0.56576746 -0.90937671]]\n"
          ]
        }
      ]
    },
    {
      "cell_type": "code",
      "metadata": {
        "colab": {
          "base_uri": "https://localhost:8080/"
        },
        "id": "UFlYpuqYJETq",
        "outputId": "089f464e-ee94-49f0-f5f8-1134e56377b4"
      },
      "source": [
        "# calculating Euclidean distance\n",
        "\n",
        "a = np.array((1, 2, 3))\n",
        "b = np.array((1, 1, 1))\n",
        "\n",
        "# using linalg.norm()\n",
        "dist = np.linalg.norm(a - b)\n",
        " \n",
        "# printing Euclidean distance\n",
        "print(dist)"
      ],
      "execution_count": 622,
      "outputs": [
        {
          "output_type": "stream",
          "name": "stdout",
          "text": [
            "2.23606797749979\n"
          ]
        }
      ]
    },
    {
      "cell_type": "markdown",
      "metadata": {
        "id": "3x4VoBx1Js3A"
      },
      "source": [
        "# Questions on NumPy Random"
      ]
    },
    {
      "cell_type": "code",
      "metadata": {
        "colab": {
          "base_uri": "https://localhost:8080/"
        },
        "id": "wdahd8TUJyQb",
        "outputId": "5b605f90-8bbe-402f-a3e6-0765bc451083"
      },
      "source": [
        "import random\n",
        "#Create a Numpy array with random values\n",
        "\n",
        "array = np.random.rand(1,5)\n",
        "print(array)"
      ],
      "execution_count": 623,
      "outputs": [
        {
          "output_type": "stream",
          "name": "stdout",
          "text": [
            "[[0.72744763 0.91201037 0.41981816 0.02214638 0.01626106]]\n"
          ]
        }
      ]
    },
    {
      "cell_type": "code",
      "metadata": {
        "colab": {
          "base_uri": "https://localhost:8080/"
        },
        "id": "7eL6V1PnLGTr",
        "outputId": "9ef8bae8-a63e-426a-c8cd-d4fbc4644e97"
      },
      "source": [
        "#How to choose elements from the list with different probability using NumPy?\n",
        "\n",
        "array = [1, 0, 30, 20, 50]\n",
        "  \n",
        "ans= np.random.choice(array, 3,\n",
        "                          p = [0, 0, 0.5, 0.5, 0])\n",
        "  \n",
        "print(ans)"
      ],
      "execution_count": 624,
      "outputs": [
        {
          "output_type": "stream",
          "name": "stdout",
          "text": [
            "[30 20 30]\n"
          ]
        }
      ]
    },
    {
      "cell_type": "code",
      "metadata": {
        "colab": {
          "base_uri": "https://localhost:8080/"
        },
        "id": "ncEwyjJUM_KE",
        "outputId": "0fb49cf7-ab8c-4d24-f583-5b3ebf775289"
      },
      "source": [
        "#How to get weighted random choice in Python?\n",
        "\n",
        "array = [200, 300, 400, 400, 00]\n",
        "  \n",
        "r= random.choices(\n",
        "  array, weights=(10, 20, 30, 40, 50), k=5)\n",
        "  \n",
        "print(r)"
      ],
      "execution_count": 625,
      "outputs": [
        {
          "output_type": "stream",
          "name": "stdout",
          "text": [
            "[400, 400, 400, 300, 0]\n"
          ]
        }
      ]
    },
    {
      "cell_type": "code",
      "metadata": {
        "colab": {
          "base_uri": "https://localhost:8080/"
        },
        "id": "1xZ3_v-LOWO4",
        "outputId": "6cc43b49-c149-4ddc-f58a-d2da61f2c729"
      },
      "source": [
        "#Generate Random Numbers From The Uniform Distribution using NumPy\n",
        "\n",
        "r = np.random.uniform(size=5)\n",
        "  \n",
        "print(r)"
      ],
      "execution_count": 626,
      "outputs": [
        {
          "output_type": "stream",
          "name": "stdout",
          "text": [
            "[0.76076785 0.51681143 0.87657561 0.79991411 0.92224074]\n"
          ]
        }
      ]
    },
    {
      "cell_type": "code",
      "metadata": {
        "colab": {
          "base_uri": "https://localhost:8080/",
          "height": 264
        },
        "id": "gtmWzIWtPQis",
        "outputId": "f04c0c62-977d-4e6e-b732-72a9323296a3"
      },
      "source": [
        "#Get Random Elements form geometric distribution\n",
        "import matplotlib.pyplot as plt\n",
        "  \n",
        "# Using geometric() method\n",
        "sample = np.random.geometric(0.65, 1000)\n",
        "  \n",
        "count, bins, ignored = plt.hist(sample, 40, density = True)\n",
        "plt.show()"
      ],
      "execution_count": 627,
      "outputs": [
        {
          "output_type": "display_data",
          "data": {
            "image/png": "[encoded data removed]",
            "text/plain": [
              "<Figure size 432x288 with 1 Axes>"
            ]
          },
          "metadata": {
            "needs_background": "light"
          }
        }
      ]
    },
    {
      "cell_type": "code",
      "metadata": {
        "colab": {
          "base_uri": "https://localhost:8080/",
          "height": 264
        },
        "id": "k3feWatFQgwu",
        "outputId": "907877db-8780-49b8-b131-25db82bd2b15"
      },
      "source": [
        "#Get Random elements from Laplace distribution\n",
        "\n",
        "import matplotlib.pyplot as plt\n",
        "  \n",
        "# Using numpy.random.laplace() method\n",
        "sample = np.random.laplace(1.45, 15, 1000)\n",
        "  \n",
        "count, bins, ignored = plt.hist(sample, 30, density = True)\n",
        "plt.show()"
      ],
      "execution_count": 628,
      "outputs": [
        {
          "output_type": "display_data",
          "data": {
            "image/png": "[encoded data removed]",
            "text/plain": [
              "<Figure size 432x288 with 1 Axes>"
            ]
          },
          "metadata": {
            "needs_background": "light"
          }
        }
      ]
    },
    {
      "cell_type": "code",
      "metadata": {
        "id": "gJU7gdf_QxRn"
      },
      "source": [
        "#Return a Matrix of random values from a uniform distribution"
      ],
      "execution_count": 629,
      "outputs": []
    },
    {
      "cell_type": "code",
      "metadata": {
        "id": "8DL7F5b5RxIc"
      },
      "source": [
        "#Return a Matrix of random values from a Gaussian distribution"
      ],
      "execution_count": 630,
      "outputs": []
    },
    {
      "cell_type": "markdown",
      "metadata": {
        "id": "x5dpudv3R2fM"
      },
      "source": [
        "# Questions on NumPy Sorting and Searching"
      ]
    },
    {
      "cell_type": "code",
      "metadata": {
        "colab": {
          "base_uri": "https://localhost:8080/"
        },
        "id": "lx0a5uxQR8P-",
        "outputId": "5d8dbf2a-0a4e-4aa8-bb96-a6216429bb99"
      },
      "source": [
        "#How to get the indices of the sorted array using NumPy in Python?\n",
        "\n",
        "array = np.array([1, 19, 22, 15, 13, 11, 20])\n",
        "print(array)\n",
        "indexes = np.argsort(array)\n",
        "print(indexes)"
      ],
      "execution_count": 631,
      "outputs": [
        {
          "output_type": "stream",
          "name": "stdout",
          "text": [
            "[ 1 19 22 15 13 11 20]\n",
            "[0 5 4 3 1 6 2]\n"
          ]
        }
      ]
    },
    {
      "cell_type": "code",
      "metadata": {
        "colab": {
          "base_uri": "https://localhost:8080/"
        },
        "id": "bOOp-JGSTFqJ",
        "outputId": "8ec6106d-95b0-478c-96b7-41928b05ad24"
      },
      "source": [
        "#Finding the k smallest values of a NumPy array\n",
        "\n",
        "array = np.array([23, 12, 1, 3, 4, 5, 6])\n",
        "print(array)\n",
        "k = 4\n",
        "# sorting the array\n",
        "arr = np.sort(array)\n",
        "# k smallest number of array\n",
        "print(k, \"smallest elements of the array\")\n",
        "print(arr[:k])"
      ],
      "execution_count": 632,
      "outputs": [
        {
          "output_type": "stream",
          "name": "stdout",
          "text": [
            "[23 12  1  3  4  5  6]\n",
            "4 smallest elements of the array\n",
            "[1 3 4 5]\n"
          ]
        }
      ]
    },
    {
      "cell_type": "code",
      "metadata": {
        "colab": {
          "base_uri": "https://localhost:8080/"
        },
        "id": "7SxaZcsOTvaO",
        "outputId": "529c64fc-9af4-47af-83bb-7882d59f8eb8"
      },
      "source": [
        "#How to get the n-largest values of an array using NumPy?\n",
        "\n",
        "arr = np.array([23, 12, 1, 3, 4, 5, 6])\n",
        "print(\"array\", arr)\n",
        "sorted_index_array = np.argsort(arr)\n",
        "# sorted array\n",
        "sorted_array = arr[sorted_index_array]\n",
        "print(\"Sorted array:\", sorted_array)\n",
        "n = 2\n",
        "# find n largest value\n",
        "values = sorted_array[-n : ]\n",
        "print(\"{} largest value:\".format(n),\n",
        "      values)"
      ],
      "execution_count": 633,
      "outputs": [
        {
          "output_type": "stream",
          "name": "stdout",
          "text": [
            "array [23 12  1  3  4  5  6]\n",
            "Sorted array: [ 1  3  4  5  6 12 23]\n",
            "2 largest value: [12 23]\n"
          ]
        }
      ]
    },
    {
      "cell_type": "code",
      "metadata": {
        "colab": {
          "base_uri": "https://localhost:8080/"
        },
        "id": "j5pr0FqiU2w2",
        "outputId": "9942de4d-d7b9-44a4-a891-50cf67d94639"
      },
      "source": [
        "#Sort the values in a matrix\n",
        "\n",
        "array = np.array([[5, 4 , 1], [3 , 1, 5]])\n",
        "array.sort(axis=1)\n",
        "print('sorted rows\\n',array)\n"
      ],
      "execution_count": 634,
      "outputs": [
        {
          "output_type": "stream",
          "name": "stdout",
          "text": [
            "sorted rows\n",
            " [[1 4 5]\n",
            " [1 3 5]]\n"
          ]
        }
      ]
    },
    {
      "cell_type": "code",
      "metadata": {
        "colab": {
          "base_uri": "https://localhost:8080/"
        },
        "id": "cIzydsZDWB8w",
        "outputId": "ce966b0f-dbd5-4067-8d24-9d16dd036fea"
      },
      "source": [
        "#Filter out integers from float numpy array\n",
        "\n",
        "\n",
        "arr = np.array([1.0, 1.2, 2.2, 2.0, 3.0, 2.0])\n",
        " \n",
        "print(\"array before : \", str(arr))\n",
        " \n",
        "# filtering integers\n",
        "ans = arr[arr != arr.astype(int)]\n",
        " \n",
        "print (\"array after\", ans)"
      ],
      "execution_count": 635,
      "outputs": [
        {
          "output_type": "stream",
          "name": "stdout",
          "text": [
            "array before :  [1.  1.2 2.2 2.  3.  2. ]\n",
            "array after [1.2 2.2]\n"
          ]
        }
      ]
    },
    {
      "cell_type": "code",
      "metadata": {
        "id": "6JrG4LcaWuaX"
      },
      "source": [
        "#Find the indices into a sorted array\n",
        "\n"
      ],
      "execution_count": 636,
      "outputs": []
    },
    {
      "cell_type": "markdown",
      "metadata": {
        "id": "221_Nq1eb27p"
      },
      "source": [
        "# Questions on NumPy Mathematics"
      ]
    },
    {
      "cell_type": "code",
      "metadata": {
        "colab": {
          "base_uri": "https://localhost:8080/"
        },
        "id": "pkCdvmBcb5gd",
        "outputId": "0e39bf51-352b-4b29-ddd7-15a0cd03ee23"
      },
      "source": [
        "x = np.arange(5)\n",
        "  \n",
        "print(\"Array\", \n",
        "      x)\n",
        "\n",
        "ans = np.true_divide(x, 4)\n",
        "  \n",
        "print(\"After the element-wise division:\", \n",
        "     ans)"
      ],
      "execution_count": 637,
      "outputs": [
        {
          "output_type": "stream",
          "name": "stdout",
          "text": [
            "Array [0 1 2 3 4]\n",
            "After the element-wise division: [0.   0.25 0.5  0.75 1.  ]\n"
          ]
        }
      ]
    },
    {
      "cell_type": "code",
      "metadata": {
        "colab": {
          "base_uri": "https://localhost:8080/"
        },
        "id": "ow0tX0ehcaL-",
        "outputId": "dd84e0cc-ecad-42a7-e57e-f016e6793e8d"
      },
      "source": [
        "array = np.array([\n",
        "    [[2, -2, 3],\n",
        "     [-4, -5, -5]],\n",
        "                   \n",
        "    [[-5.5, -4.12, 2.0],\n",
        "     [90.0, 22.5, -22.5]]\n",
        "                 ])\n",
        "print(\"Array\\n\",\n",
        "      array)\n",
        "ans= np.absolute(array)\n",
        "print(\"array after\\n\",\n",
        "      ans)"
      ],
      "execution_count": 638,
      "outputs": [
        {
          "output_type": "stream",
          "name": "stdout",
          "text": [
            "Array\n",
            " [[[  2.    -2.     3.  ]\n",
            "  [ -4.    -5.    -5.  ]]\n",
            "\n",
            " [[ -5.5   -4.12   2.  ]\n",
            "  [ 90.    22.5  -22.5 ]]]\n",
            "array after\n",
            " [[[ 2.    2.    3.  ]\n",
            "  [ 4.    5.    5.  ]]\n",
            "\n",
            " [[ 5.5   4.12  2.  ]\n",
            "  [90.   22.5  22.5 ]]]\n"
          ]
        }
      ]
    },
    {
      "cell_type": "code",
      "metadata": {
        "colab": {
          "base_uri": "https://localhost:8080/"
        },
        "id": "Xn4HRFl4c2tQ",
        "outputId": "3cbede6c-2710-4268-ac3c-4e91984fce38"
      },
      "source": [
        "#Compute the negative of the NumPy array\n",
        "\n",
        "arr = np.array([[1, -3, -3], [-2, 5, 1]])\n",
        "   \n",
        "print (\"Input array\\n\", arr) \n",
        "nw_arr = np.negative(arr) \n",
        "print (\"negative of array elements\\n\", nw_arr)"
      ],
      "execution_count": 639,
      "outputs": [
        {
          "output_type": "stream",
          "name": "stdout",
          "text": [
            "Input array\n",
            " [[ 1 -3 -3]\n",
            " [-2  5  1]]\n",
            "negative of array elements\n",
            " [[-1  3  3]\n",
            " [ 2 -5 -1]]\n"
          ]
        }
      ]
    },
    {
      "cell_type": "code",
      "metadata": {
        "colab": {
          "base_uri": "https://localhost:8080/"
        },
        "id": "AnF8cAJddy5G",
        "outputId": "d1eeb441-d2ee-45ca-9f88-2f2889c49c64"
      },
      "source": [
        "#Multiply 2d numpy array corresponding to 1d array\n",
        "ini_array1 = np.array([[2, 2, 3], [1, 2, 1], [3, 4, 2]])\n",
        "ini_array2 = np.array([0, 2, 1])\n",
        "print(\"array\", str(ini_array1))\n",
        "ans = ini_array1 * ini_array2[:, None]\n",
        "print(\"result\\n\", ans)"
      ],
      "execution_count": 640,
      "outputs": [
        {
          "output_type": "stream",
          "name": "stdout",
          "text": [
            "array [[2 2 3]\n",
            " [1 2 1]\n",
            " [3 4 2]]\n",
            "result\n",
            " [[0 0 0]\n",
            " [2 4 2]\n",
            " [3 4 2]]\n"
          ]
        }
      ]
    },
    {
      "cell_type": "code",
      "metadata": {
        "colab": {
          "base_uri": "https://localhost:8080/"
        },
        "id": "BL8k8OOgdXOA",
        "outputId": "dfd06a92-027a-4f28-93ed-7987ac884d4b"
      },
      "source": [
        "#Computes the inner product of two arrays\n",
        "\n",
        "a = np.array([1,2,3])\n",
        "b = np.array([0,1,0])\n",
        "print('the inner product of two arrays\\n',np.inner(a, b))"
      ],
      "execution_count": 641,
      "outputs": [
        {
          "output_type": "stream",
          "name": "stdout",
          "text": [
            "the inner product of two arrays\n",
            " 2\n"
          ]
        }
      ]
    },
    {
      "cell_type": "code",
      "metadata": {
        "colab": {
          "base_uri": "https://localhost:8080/"
        },
        "id": "8NidVdtqftgS",
        "outputId": "08f3f956-e9d6-4ff4-fdbe-0fe8c2f9f692"
      },
      "source": [
        "#Compute the nth percentile of the NumPy array\n",
        "\n",
        "array = [1, 2, 7, 4, 4]\n",
        "print(\"array\", array)\n",
        "print(\"50th percentile of array\\n \",np.percentile(array, 50))"
      ],
      "execution_count": 642,
      "outputs": [
        {
          "output_type": "stream",
          "name": "stdout",
          "text": [
            "array [1, 2, 7, 4, 4]\n",
            "50th percentile of array\n",
            "  4.0\n"
          ]
        }
      ]
    },
    {
      "cell_type": "code",
      "metadata": {
        "colab": {
          "base_uri": "https://localhost:8080/"
        },
        "id": "Z4efOydmgqOZ",
        "outputId": "4e1697e5-a5a8-404e-b123-c83b10b0b110"
      },
      "source": [
        "#Calculate the n-th order discrete difference along the given axis\n",
        "\n",
        "x = np.array([1, 3, 5, 1, 0])\n",
        "print('result',np.diff(x))"
      ],
      "execution_count": 643,
      "outputs": [
        {
          "output_type": "stream",
          "name": "stdout",
          "text": [
            "result [ 2  2 -4 -1]\n"
          ]
        }
      ]
    },
    {
      "cell_type": "code",
      "metadata": {
        "colab": {
          "base_uri": "https://localhost:8080/"
        },
        "id": "qj5FgVtwh1Ck",
        "outputId": "02b25960-d74b-4d22-b8e6-403e7bbbf372"
      },
      "source": [
        "#Calculate the sum of all columns in a 2D NumPy array\n",
        "\n",
        "a = [[1, 2, 3, 5], [4, 5, 6 , 1],\n",
        "            [7, 8, 9 , 2], [10, 11, 12 , 1]]\n",
        "arr = np.array(a)\n",
        " \n",
        "# displaying the 2D Array\n",
        "print('array created\\n',arr)\n",
        "print('sum of all columns\\n',np.sum(arr, axis = 0))"
      ],
      "execution_count": 644,
      "outputs": [
        {
          "output_type": "stream",
          "name": "stdout",
          "text": [
            "array created\n",
            " [[ 1  2  3  5]\n",
            " [ 4  5  6  1]\n",
            " [ 7  8  9  2]\n",
            " [10 11 12  1]]\n",
            "sum of all columns\n",
            " [22 26 30  9]\n"
          ]
        }
      ]
    },
    {
      "cell_type": "code",
      "metadata": {
        "colab": {
          "base_uri": "https://localhost:8080/"
        },
        "id": "P9uuDjdikIHF",
        "outputId": "e03a491f-011f-407f-d2fa-cac6c8de45ac"
      },
      "source": [
        "#Calculate average values of two given NumPy arrays\n",
        "a = np.array([2, 3])\n",
        "b = np.array([1, 2])\n",
        "  \n",
        "# find average of NumPy arrays\n",
        "print(\"average\\n\",(a + b) / 2)"
      ],
      "execution_count": 645,
      "outputs": [
        {
          "output_type": "stream",
          "name": "stdout",
          "text": [
            "average\n",
            " [1.5 2.5]\n"
          ]
        }
      ]
    },
    {
      "cell_type": "code",
      "metadata": {
        "colab": {
          "base_uri": "https://localhost:8080/"
        },
        "id": "EwlEW8nbk9T7",
        "outputId": "4b0aa7e0-66b0-47ac-fc3d-4165c6ce7bb7"
      },
      "source": [
        "#How to compute numerical negative value for all elements in a given NumPy array?\n",
        "\n",
        "a = np.array([-3, -1, -2,\n",
        "              -1, 2, -3, 1])\n",
        "print(a)\n",
        "ans = np.negative(a)\n",
        "print(\"array\\n\",ans)"
      ],
      "execution_count": 646,
      "outputs": [
        {
          "output_type": "stream",
          "name": "stdout",
          "text": [
            "[-3 -1 -2 -1  2 -3  1]\n",
            "array\n",
            " [ 3  1  2  1 -2  3 -1]\n"
          ]
        }
      ]
    },
    {
      "cell_type": "code",
      "metadata": {
        "colab": {
          "base_uri": "https://localhost:8080/"
        },
        "id": "vokqe1yNmGlG",
        "outputId": "31f59157-e555-40eb-85a4-0497a62d3095"
      },
      "source": [
        "#How to get the floor, ceiling and truncated values of the elements of a numpy array?\n",
        "\n",
        "arr = np.array([-1.6, -1.5, -0.3, 0.1, 1.4, 1.8, 2.0])\n",
        "print(\"array:\")\n",
        "print(arr)\n",
        "print(\"Floor values\")\n",
        "print(np.floor(arr))\n",
        "print(\"Ceil values\")\n",
        "print(np.ceil(arr))\n",
        "print(\"Truncated values\")\n",
        "print(np.trunc(arr))"
      ],
      "execution_count": 647,
      "outputs": [
        {
          "output_type": "stream",
          "name": "stdout",
          "text": [
            "array:\n",
            "[-1.6 -1.5 -0.3  0.1  1.4  1.8  2. ]\n",
            "Floor values\n",
            "[-2. -2. -1.  0.  1.  1.  2.]\n",
            "Ceil values\n",
            "[-1. -1. -0.  1.  2.  2.  2.]\n",
            "Truncated values\n",
            "[-1. -1. -0.  0.  1.  1.  2.]\n"
          ]
        }
      ]
    },
    {
      "cell_type": "code",
      "metadata": {
        "colab": {
          "base_uri": "https://localhost:8080/"
        },
        "id": "eLr_KTCSnX90",
        "outputId": "0034d6eb-4185-4c87-cfdb-88c696cf1243"
      },
      "source": [
        "#How to round elements of the NumPy array to the nearest integer?\n",
        "\n",
        "a = np.array([-1.2, -2.5, -1.8, 1.2, 0.5, 0.7, 1.0])\n",
        "np.rint(a)\n",
        "\n"
      ],
      "execution_count": 648,
      "outputs": [
        {
          "output_type": "execute_result",
          "data": {
            "text/plain": [
              "array([-1., -2., -2.,  1.,  0.,  1.,  1.])"
            ]
          },
          "metadata": {},
          "execution_count": 648
        }
      ]
    },
    {
      "cell_type": "code",
      "metadata": {
        "colab": {
          "base_uri": "https://localhost:8080/"
        },
        "id": "U87hoDwynyBk",
        "outputId": "79b5e6b3-f936-402e-fbbe-c9b4fbc8c531"
      },
      "source": [
        "#Find the round off the values of the given matrix\n",
        "\n",
        "matrix= np.matrix('[1.4, 2.3; 12.7, 11.3]')\n",
        "           \n",
        "# applying matrix.round() method\n",
        "result = matrix.round()\n",
        "     \n",
        "print(result)"
      ],
      "execution_count": 649,
      "outputs": [
        {
          "output_type": "stream",
          "name": "stdout",
          "text": [
            "[[ 1.  2.]\n",
            " [13. 11.]]\n"
          ]
        }
      ]
    },
    {
      "cell_type": "code",
      "metadata": {
        "colab": {
          "base_uri": "https://localhost:8080/"
        },
        "id": "DChMArj6vHgd",
        "outputId": "99ad78da-bd8e-4439-b5ae-429c48dbe86f"
      },
      "source": [
        "#Determine the positive square-root of an array\n",
        "\n",
        "arr = np.sqrt([1, 4, 9, 16 , 25])\n",
        "  \n",
        "print(\"square-root of an array -->\", arr)"
      ],
      "execution_count": 650,
      "outputs": [
        {
          "output_type": "stream",
          "name": "stdout",
          "text": [
            "square-root of an array --> [1. 2. 3. 4. 5.]\n"
          ]
        }
      ]
    },
    {
      "cell_type": "code",
      "metadata": {
        "colab": {
          "base_uri": "https://localhost:8080/"
        },
        "id": "ZX_x9CA-v_e_",
        "outputId": "dc412d47-2392-436d-f032-9c4084dd5e2a"
      },
      "source": [
        "#Evaluate Einstein’s summation convention of two multidimensional NumPy arrays\n",
        "\n",
        "matrix1 = np.array([[2, 2], [2, 2]])\n",
        "matrix2 = np.array([[3, 1], [3, 4]])\n",
        "  \n",
        "print(matrix1)\n",
        "print(matrix2)\n",
        "  \n",
        "# show result\n",
        "result = np.einsum(\"mk,kn\", matrix1, matrix2)\n",
        "  \n",
        "print(\"Einstein’s summation convention of the two matrix:\")\n",
        "print(result)"
      ],
      "execution_count": 651,
      "outputs": [
        {
          "output_type": "stream",
          "name": "stdout",
          "text": [
            "[[2 2]\n",
            " [2 2]]\n",
            "[[3 1]\n",
            " [3 4]]\n",
            "Einstein’s summation convention of the two matrix:\n",
            "[[12 10]\n",
            " [12 10]]\n"
          ]
        }
      ]
    },
    {
      "cell_type": "markdown",
      "metadata": {
        "id": "7E1YWykCyRD-"
      },
      "source": [
        "# Questions on NumPy Statistics"
      ]
    },
    {
      "cell_type": "code",
      "metadata": {
        "colab": {
          "base_uri": "https://localhost:8080/"
        },
        "id": "4pLoGzgiyVCG",
        "outputId": "f44e3458-01c4-46ab-db7f-1fea9c89a929"
      },
      "source": [
        "#Compute the median of the flattened NumPy array\n",
        "\n",
        "x = np.array([1,2,4,5,6,7,8,9,20])\n",
        "print(\"Array\\n\",x)\n",
        "median =  np.median(x)\n",
        "print(\"Median of said array\")\n",
        "print(median)"
      ],
      "execution_count": 652,
      "outputs": [
        {
          "output_type": "stream",
          "name": "stdout",
          "text": [
            "Array\n",
            " [ 1  2  4  5  6  7  8  9 20]\n",
            "Median of said array\n",
            "6.0\n"
          ]
        }
      ]
    },
    {
      "cell_type": "code",
      "metadata": {
        "colab": {
          "base_uri": "https://localhost:8080/"
        },
        "id": "oimWRmCf0lIq",
        "outputId": "849aa8a0-52a3-4cf3-b9be-893e767a571b"
      },
      "source": [
        "#Find Mean of a List of Numpy Array\n",
        "\n",
        "array = [np.array([1, 1, 3]),\n",
        "         np.array([4, 2, 6]),\n",
        "         np.array([7, 4, 5])]\n",
        "means = []\n",
        "for i in range(len(array)):\n",
        "   means.append(np.mean(array[i]))\n",
        "  \n",
        "print(means)"
      ],
      "execution_count": 653,
      "outputs": [
        {
          "output_type": "stream",
          "name": "stdout",
          "text": [
            "[1.6666666666666667, 4.0, 5.333333333333333]\n"
          ]
        }
      ]
    },
    {
      "cell_type": "code",
      "metadata": {
        "colab": {
          "base_uri": "https://localhost:8080/"
        },
        "id": "nH9t726K1Bnz",
        "outputId": "3955530d-0d30-4754-b67a-5a2c33aaddf5"
      },
      "source": [
        "#Calculate the mean of array ignoring the NaN value\n",
        "\n",
        "array = np.array([1,2,3,4,5,np.nan])\n",
        "('the mean of array ignoring the NaN value\\n',np.nanmean(array))"
      ],
      "execution_count": 654,
      "outputs": [
        {
          "output_type": "execute_result",
          "data": {
            "text/plain": [
              "('the mean of array ignoring the NaN value\\n', 3.0)"
            ]
          },
          "metadata": {},
          "execution_count": 654
        }
      ]
    },
    {
      "cell_type": "code",
      "metadata": {
        "colab": {
          "base_uri": "https://localhost:8080/"
        },
        "id": "CEl3FH57173Q",
        "outputId": "6d2f3a5c-946f-445b-c4c1-839d20f858fa"
      },
      "source": [
        "#Get the mean value from given matrix\n",
        "\n",
        "x = np.matrix(np.arange(6).reshape((3,2)))\n",
        "print('matrix\\n',x);\n",
        "print('mean',x.mean())"
      ],
      "execution_count": 655,
      "outputs": [
        {
          "output_type": "stream",
          "name": "stdout",
          "text": [
            "matrix\n",
            " [[0 1]\n",
            " [2 3]\n",
            " [4 5]]\n",
            "mean 2.5\n"
          ]
        }
      ]
    },
    {
      "cell_type": "code",
      "metadata": {
        "colab": {
          "base_uri": "https://localhost:8080/"
        },
        "id": "sz1Fojuo3NYJ",
        "outputId": "b2276020-6105-4925-8677-17864345041d"
      },
      "source": [
        "#Compute the variance of the NumPy array\n",
        "\n",
        "arr = [1, 2, 4, 2, 3] \n",
        "  \n",
        "print(\"array\\n\", arr) \n",
        "print(\"variance\\n \", np.var(arr))"
      ],
      "execution_count": 656,
      "outputs": [
        {
          "output_type": "stream",
          "name": "stdout",
          "text": [
            "array\n",
            " [1, 2, 4, 2, 3]\n",
            "variance\n",
            "  1.04\n"
          ]
        }
      ]
    },
    {
      "cell_type": "code",
      "metadata": {
        "colab": {
          "base_uri": "https://localhost:8080/"
        },
        "id": "bZGIW7ZE3uLX",
        "outputId": "4994511f-22bc-421d-851d-ade4b743ac43"
      },
      "source": [
        "#Compute the standard deviation of the NumPy array\n",
        "\n",
        "arr = np.array([[1, 1], [3, 3]])\n",
        "print('standard deviation\\n',np.std(arr))\n"
      ],
      "execution_count": 657,
      "outputs": [
        {
          "output_type": "stream",
          "name": "stdout",
          "text": [
            "standard deviation\n",
            " 1.0\n"
          ]
        }
      ]
    },
    {
      "cell_type": "code",
      "metadata": {
        "colab": {
          "base_uri": "https://localhost:8080/"
        },
        "id": "mNKwqqlf5Nfy",
        "outputId": "10adcded-ce02-494c-c310-754cce41a8b1"
      },
      "source": [
        "#Compute pearson product-moment correlation coefficients of two given NumPy arrays\n",
        "\n",
        "x = np.array([0, 1, 3])\n",
        "y = np.array([1, 4, 2])\n",
        "print(\"Array x\\n\",x)\n",
        "print(\"Array y\\n\",y)\n",
        "print(\"Pearson product-moment correlation coefficients of the given arrays\\n\",np.corrcoef(x, y))"
      ],
      "execution_count": 658,
      "outputs": [
        {
          "output_type": "stream",
          "name": "stdout",
          "text": [
            "Array x\n",
            " [0 1 3]\n",
            "Array y\n",
            " [1 4 2]\n",
            "Pearson product-moment correlation coefficients of the given arrays\n",
            " [[1.         0.14285714]\n",
            " [0.14285714 1.        ]]\n"
          ]
        }
      ]
    },
    {
      "cell_type": "code",
      "metadata": {
        "colab": {
          "base_uri": "https://localhost:8080/"
        },
        "id": "IAMSk99b6fI6",
        "outputId": "f40434ea-b6bb-42de-bc5c-8b41d0bb55e9"
      },
      "source": [
        "#Calculate the mean across dimension in a 2D NumPy array\n",
        "x = np.array([[2, 4, 1], [4, 5, 2], [4, 8, 5]])\n",
        "print(\"Array\\n\",x)\n",
        "print(\"Mean of each column\",x.mean(axis=0))\n",
        "print(\"Mean of each row\",x.mean(axis=1))"
      ],
      "execution_count": 659,
      "outputs": [
        {
          "output_type": "stream",
          "name": "stdout",
          "text": [
            "Array\n",
            " [[2 4 1]\n",
            " [4 5 2]\n",
            " [4 8 5]]\n",
            "Mean of each column [3.33333333 5.66666667 2.66666667]\n",
            "Mean of each row [2.33333333 3.66666667 5.66666667]\n"
          ]
        }
      ]
    },
    {
      "cell_type": "code",
      "metadata": {
        "colab": {
          "base_uri": "https://localhost:8080/"
        },
        "id": "DaX-YAWV7yOf",
        "outputId": "7dc95695-7c17-49b6-d7ed-677247f23b3f"
      },
      "source": [
        "#Calculate the average, variance and standard deviation in Python using NumPy\n",
        "\n",
        "a = np.array([2, 4, 4, 4, 5, 5, 7, 9])\n",
        "print('average',np.average(a))\n",
        "print('variance',np.var(a))\n",
        "print('standard deviation σ',np.std(a))\n"
      ],
      "execution_count": 660,
      "outputs": [
        {
          "output_type": "stream",
          "name": "stdout",
          "text": [
            "average 5.0\n",
            "variance 4.0\n",
            "standard deviation σ 2.0\n"
          ]
        }
      ]
    },
    {
      "cell_type": "markdown",
      "metadata": {
        "id": "C4qzhdR1-rfe"
      },
      "source": [
        "####Describe a NumPy Array in Python\n",
        "*Python library used for numerical computing. It offers robust multidimensional arrays as a Python object along with a variety of mathematical functions.*"
      ]
    },
    {
      "cell_type": "markdown",
      "metadata": {
        "id": "JBJ6baDp_fLd"
      },
      "source": [
        "# Questions on Polynomial"
      ]
    },
    {
      "cell_type": "markdown",
      "metadata": {
        "id": "AQrcHsfBH2Qg"
      },
      "source": [
        "####Define a polynomial function\n",
        "\n",
        "are functions of a single independent variable, in which that variable can appear more than once, raised to any integer power. For example:\n",
        "\n",
        "f(x)= 3x−2"
      ]
    },
    {
      "cell_type": "code",
      "metadata": {
        "colab": {
          "base_uri": "https://localhost:8080/"
        },
        "id": "NBM226p2_k-h",
        "outputId": "86bcfb16-5bc9-4306-9252-a32fb49a758b"
      },
      "source": [
        "#How to add one polynomial to another using NumPy in Python?\n",
        "\n",
        "px = (5,-2,5)\n",
        "# q(x) = 2(x**2) + (-5)x +2\n",
        "qx = (2,-5,2)\n",
        "result = np.polynomial.polynomial.polyadd(px,qx)\n",
        "print(result)\n"
      ],
      "execution_count": 661,
      "outputs": [
        {
          "output_type": "stream",
          "name": "stdout",
          "text": [
            "[ 7. -7.  7.]\n"
          ]
        }
      ]
    },
    {
      "cell_type": "code",
      "metadata": {
        "colab": {
          "base_uri": "https://localhost:8080/"
        },
        "id": "ix-8AgeoBHVk",
        "outputId": "c55f4f75-b451-4a6a-ff93-09c06b9ac22b"
      },
      "source": [
        "#How to subtract one polynomial to another using NumPy in Python?\n",
        "\n",
        "px = (5,-2,5)\n",
        "# q(x) = 2(x**2) + (-5)x +2\n",
        "qx = (2,-5,2)\n",
        "result = np.polynomial.polynomial.polysub(px,qx)\n",
        "print(result)"
      ],
      "execution_count": 662,
      "outputs": [
        {
          "output_type": "stream",
          "name": "stdout",
          "text": [
            "[3. 3. 3.]\n"
          ]
        }
      ]
    },
    {
      "cell_type": "code",
      "metadata": {
        "colab": {
          "base_uri": "https://localhost:8080/"
        },
        "id": "kyz9MPWIB3-G",
        "outputId": "aa5bba51-eb4e-4171-f6b6-4df344a9e559"
      },
      "source": [
        "#How to multiply a polynomial to another using NumPy in Python?\n",
        "\n",
        "px = (5, -2, 5)\n",
        "# q(x) = 2(x**2) + (-5)x +2\n",
        "qx = (2, -5, 2)\n",
        "result = np.polynomial.polynomial.polymul(px, qx)\n",
        "print(result)"
      ],
      "execution_count": 663,
      "outputs": [
        {
          "output_type": "stream",
          "name": "stdout",
          "text": [
            "[ 10. -29.  30. -29.  10.]\n"
          ]
        }
      ]
    },
    {
      "cell_type": "code",
      "metadata": {
        "colab": {
          "base_uri": "https://localhost:8080/"
        },
        "id": "gIlcr44BC6OH",
        "outputId": "850fc213-55ad-48dc-ecb9-7ceec94653ec"
      },
      "source": [
        "#How to divide a polynomial to another using NumPy in Python?\n",
        "px = (5, -2, 5)\n",
        "# g(x) = x +2\n",
        "gx = (2, 1, 0)\n",
        "qx, rx = np.polynomial.polynomial.polydiv(px, gx)\n",
        "#quotient\n",
        "print(qx)\n",
        "print(rx)"
      ],
      "execution_count": 664,
      "outputs": [
        {
          "output_type": "stream",
          "name": "stdout",
          "text": [
            "[-12.   5.]\n",
            "[29.]\n"
          ]
        }
      ]
    },
    {
      "cell_type": "code",
      "metadata": {
        "colab": {
          "base_uri": "https://localhost:8080/"
        },
        "id": "PAVxclmeEEXP",
        "outputId": "ed7a1649-dc19-434c-e681-3afa6a5b0660"
      },
      "source": [
        "#Find the roots of the polynomials using NumPy\n",
        "\n",
        "coeff = [1, 2, 1]\n",
        "print(np.roots(coeff))"
      ],
      "execution_count": 665,
      "outputs": [
        {
          "output_type": "stream",
          "name": "stdout",
          "text": [
            "[-1. -1.]\n"
          ]
        }
      ]
    },
    {
      "cell_type": "code",
      "metadata": {
        "colab": {
          "base_uri": "https://localhost:8080/"
        },
        "id": "NHFToLgEFdQb",
        "outputId": "8be9c95d-edf4-46a4-9832-d3d1321f4474"
      },
      "source": [
        "#Evaluate a 2-D polynomial series on the Cartesian product\n",
        "\n",
        "from numpy.polynomial.polynomial import polygrid2d\n",
        "  \n",
        "cof = np.array([[1, 3, 5], [2, 4, 6]]) \n",
        "# using np.polygrid2d() method \n",
        "answ = polygrid2d([7, 9], [8, 10], cof)\n",
        "print(answ)"
      ],
      "execution_count": 666,
      "outputs": [
        {
          "output_type": "stream",
          "name": "stdout",
          "text": [
            "[[3271. 5025.]\n",
            " [4107. 6309.]]\n"
          ]
        }
      ]
    },
    {
      "cell_type": "code",
      "metadata": {
        "colab": {
          "base_uri": "https://localhost:8080/"
        },
        "id": "B9Uo9yh0F1GE",
        "outputId": "a4f8f509-b45c-41bf-cf63-977d297ab95c"
      },
      "source": [
        "#Evaluate a 3-D polynomial series on the Cartesian product\n",
        "\n",
        "\n",
        "from numpy.polynomial.polynomial import polygrid3d\n",
        "  \n",
        "coeff = np.array([[1, 3, 5], [2, 4, 6], [10, 11, 12]]) \n",
        "  \n",
        "# using np.polygrid3d() method \n",
        "ans = polygrid3d([7, 9], [8, 10], [5, 6], coeff)\n",
        "print(ans)"
      ],
      "execution_count": 667,
      "outputs": [
        {
          "output_type": "stream",
          "name": "stdout",
          "text": [
            "[[416970. 491223.]\n",
            " [635850. 749079.]]\n"
          ]
        }
      ]
    },
    {
      "cell_type": "markdown",
      "metadata": {
        "id": "O_FwaAVTGXd4"
      },
      "source": [
        "#Questions on NumPy Strings"
      ]
    }
  ]
}